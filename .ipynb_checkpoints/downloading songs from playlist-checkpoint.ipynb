{
 "cells": [
  {
   "cell_type": "code",
   "execution_count": null,
   "id": "79593da0",
   "metadata": {},
   "outputs": [],
   "source": [
    "fifties_playlist = \"37i9dQZF1DWSV3Tk4GO2fq\""
   ]
  },
  {
   "cell_type": "code",
   "execution_count": null,
   "id": "58bc608e",
   "metadata": {},
   "outputs": [],
   "source": [
    "def get_all_tracks(playlist):\n",
    "    results = sp.user_playlist_tracks(\"spotify\", playlist)\n",
    "    tracks = results['items']\n",
    "\n",
    "    for oset in range(1050,results['total'],1050):\n",
    "        results = sp.user_playlist_tracks(\"spotify\", playlist, offset=oset)\n",
    "        tracks += results['items']\n",
    "    \n",
    "    return tracks"
   ]
  },
  {
   "cell_type": "code",
   "execution_count": null,
   "id": "442ab6f1",
   "metadata": {},
   "outputs": [],
   "source": [
    "all_tracks_50s = get_all_tracks(fifties_playlist)"
   ]
  },
  {
   "cell_type": "code",
   "execution_count": null,
   "id": "788106d0",
   "metadata": {},
   "outputs": [],
   "source": [
    "def get_artists_from_playlist(playlist_id, tracks):\n",
    "    \n",
    "    tracks_from_playlist = tracks\n",
    "    \n",
    "    artists = []\n",
    "    \n",
    "    for track in tracks_from_playlist:\n",
    "        artist_info = track['track']['artists'][0]\n",
    "        artists.append(artist_info['name'])\n",
    "    \n",
    "    return artists"
   ]
  },
  {
   "cell_type": "code",
   "execution_count": null,
   "id": "afc79cb6",
   "metadata": {},
   "outputs": [],
   "source": [
    "all_artists_50s = get_artists_from_playlist(fifties_playlist,all_tracks_50s)"
   ]
  },
  {
   "cell_type": "code",
   "execution_count": null,
   "id": "52147a69",
   "metadata": {},
   "outputs": [],
   "source": [
    "def get_song_names(tracks):\n",
    "    song_actual_names = [track['track']['name'] for track in tracks]\n",
    "    track_ids = [track['track']['id'] for track in tracks]\n",
    "    \n",
    "    return song_actual_names,track_ids"
   ]
  },
  {
   "cell_type": "code",
   "execution_count": null,
   "id": "75aa3e68",
   "metadata": {},
   "outputs": [],
   "source": [
    "all_song_names_50s,id_track_50s = get_song_names(all_tracks_50s)"
   ]
  },
  {
   "cell_type": "code",
   "execution_count": null,
   "id": "a192e8ee",
   "metadata": {},
   "outputs": [],
   "source": [
    "def get_pop_and_genre(tracks):\n",
    "    \n",
    "    genre = []\n",
    "    popularity = []\n",
    "    \n",
    "    for elem in tracks:\n",
    "        artist01 = sp.artist(elem['track'][\"album\"][\"artists\"][0][\"external_urls\"][\"spotify\"])\n",
    "        genre.append(artist01[\"genres\"][0] if artist01[\"genres\"] else \"genreless\")\n",
    "        popularity.append(artist01[\"popularity\"])\n",
    "        \n",
    "        \n",
    "    return genre,popularity"
   ]
  },
  {
   "cell_type": "code",
   "execution_count": null,
   "id": "cf2441f0",
   "metadata": {},
   "outputs": [],
   "source": [
    "genre_50s,popularity_50s = get_pop_and_genre(all_tracks_50s)"
   ]
  },
  {
   "cell_type": "code",
   "execution_count": null,
   "id": "966da874",
   "metadata": {},
   "outputs": [],
   "source": [
    "def main_features_to_df(track_ids):\n",
    "    the_list = []\n",
    "    for i in track_ids:\n",
    "        the_list.append(sp.audio_features(i)) \n",
    "    converted = [i for elem in the_list for i in elem]    \n",
    "    df = pd.json_normalize(converted)\n",
    "    \n",
    "    return df"
   ]
  },
  {
   "cell_type": "code",
   "execution_count": null,
   "id": "125ea36a",
   "metadata": {},
   "outputs": [],
   "source": [
    "df_50s = main_features_to_df(id_track_50s)"
   ]
  },
  {
   "cell_type": "code",
   "execution_count": null,
   "id": "0e0b80cc",
   "metadata": {},
   "outputs": [],
   "source": [
    "def add_features_to_df(song_actual_names,artist_list,genre,popularity,features_df):\n",
    "    df_song_name = pd.DataFrame(song_actual_names, columns = [\"song_name\"])\n",
    "    df_artists = pd.DataFrame(artist_list,columns = [\"artists\"])\n",
    "    df_genre = pd.DataFrame(genre,columns = [\"genre\"])\n",
    "    df_popularity = pd.DataFrame(popularity,columns = [\"popularity\"])\n",
    "    \n",
    "    final_boss_df = pd.concat([features_df, df_song_name,df_artists,df_genre,df_popularity], axis=1)\n",
    "    \n",
    "    return final_boss_df"
   ]
  },
  {
   "cell_type": "code",
   "execution_count": null,
   "id": "9813d514",
   "metadata": {},
   "outputs": [],
   "source": [
    "final_df_50s = add_features_to_df(all_song_names_50s,all_artists_50s,genre_50s,popularity_50s,df_50s)"
   ]
  },
  {
   "cell_type": "code",
   "execution_count": null,
   "id": "2067bb2d",
   "metadata": {},
   "outputs": [],
   "source": []
  },
  {
   "cell_type": "code",
   "execution_count": null,
   "id": "ae7394ae",
   "metadata": {},
   "outputs": [],
   "source": []
  },
  {
   "cell_type": "code",
   "execution_count": null,
   "id": "7ebec679",
   "metadata": {},
   "outputs": [],
   "source": [
    "scaler = StandardScaler()\n",
    "\n",
    "def scaling_df(current_df):\n",
    "    df_to_scale = current_df[['danceability', 'energy', 'key', 'loudness', 'mode', 'speechiness', 'acousticness', 'instrumentalness', 'liveness', 'valence', 'tempo','popularity']]\n",
    "    \n",
    "    scaled_df02 = scaler.fit_transform(df_to_scale)\n",
    "    scaled_df01 = pd.DataFrame(scaled_df02)\n",
    "                            \n",
    "    scaled_df = scaled_df01.copy()\n",
    "    scaled_df.columns = df_to_scale.columns\n",
    "    scaled_df[\"song_name\"] = current_df[\"song_name\"]\n",
    "    scaled_df[\"artists\"] = current_df[\"artists\"]\n",
    "    scaled_df[\"genre\"] = current_df[\"genre\"]\n",
    "    scaled_df\n",
    "                             \n",
    "    return scaled_df01,scaled_df"
   ]
  },
  {
   "cell_type": "code",
   "execution_count": null,
   "id": "aa2985d6",
   "metadata": {},
   "outputs": [],
   "source": []
  },
  {
   "cell_type": "code",
   "execution_count": null,
   "id": "edff08b7",
   "metadata": {},
   "outputs": [],
   "source": [
    "df_to_scale_50s,scaled_df_50s = scaling_df(final_df_50s)"
   ]
  },
  {
   "cell_type": "code",
   "execution_count": null,
   "id": "49edfa96",
   "metadata": {},
   "outputs": [],
   "source": []
  },
  {
   "cell_type": "code",
   "execution_count": null,
   "id": "93da6555",
   "metadata": {},
   "outputs": [],
   "source": [
    "scaled_complete_frames = [scaled_df_50s,scaled_df_60s,scaled_df_70s,scaled_df_80s,scaled_df_90s,scaled_df_2000s,scaled_df_2010s,scaled_df_2020s]\n",
    "all_frames = pd.concat(scaled_complete_frames)"
   ]
  },
  {
   "cell_type": "code",
   "execution_count": null,
   "id": "4926bf9a",
   "metadata": {},
   "outputs": [],
   "source": [
    "all_frames.head()"
   ]
  },
  {
   "cell_type": "code",
   "execution_count": null,
   "id": "5c2fb85b",
   "metadata": {},
   "outputs": [],
   "source": []
  }
 ],
 "metadata": {
  "kernelspec": {
   "display_name": "Python 3 (ipykernel)",
   "language": "python",
   "name": "python3"
  },
  "language_info": {
   "codemirror_mode": {
    "name": "ipython",
    "version": 3
   },
   "file_extension": ".py",
   "mimetype": "text/x-python",
   "name": "python",
   "nbconvert_exporter": "python",
   "pygments_lexer": "ipython3",
   "version": "3.9.12"
  }
 },
 "nbformat": 4,
 "nbformat_minor": 5
}
